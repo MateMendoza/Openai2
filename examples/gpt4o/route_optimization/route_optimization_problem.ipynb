{
 "cells": [
  {
   "cell_type": "markdown",
   "metadata": {},
   "source": [
    "# Route Optimization\n",
    "\n",
    "This notebook demonstrates how to optimize travel routes for multiple users using OpenAI's GPT-4 model. The optimized routes are then visualized on interactive maps using Folium and geocoded using the Geopy library.\n",
    "\n",
    "**Dataset Overview:**\n",
    "\n",
    "The CSV file contains the following columns:\n",
    "\n",
    "- **User**: The name of the user\n",
    "- **Starting Location**: The starting location of the user\n",
    "- **Destination**: The destination of the user\n",
    "- **Waypoints**: The waypoints the user wants to visit\n",
    "\n",
    "Our goal is to determine the most efficient visiting order for each user to minimize travel time."
   ]
  },
  {
   "cell_type": "markdown",
   "metadata": {},
   "source": [
    "### Import Necessary Libraries\n",
    "\n",
    "We start by importing the essential libraries required for data handling and interaction with the OpenAI API.\n",
    "\n",
    "- `openai`: To access OpenAI's GPT models for route optimization.\n",
    "- `pandas`: For data manipulation and analysis.\n",
    "- `os`: To access environment variables for secure API key handling."
   ]
  },
  {
   "cell_type": "code",
   "execution_count": 75,
   "metadata": {},
   "outputs": [],
   "source": [
    "#Import Necessary Libraries:\n",
    "import openai\n",
    "import pandas as pd\n",
    "import os"
   ]
  },
  {
   "cell_type": "markdown",
   "metadata": {},
   "source": [
    "### Install and Import Visualization Libraries\n",
    "\n",
    "We install and import the libraries necessary for geocoding addresses and visualizing the routes on a map.\n",
    "\n",
    "- `folium`: Used for creating interactive map visualizations.\n",
    "- `geopy`: Utilized for geocoding addresses to geographical coordinates.\n"
   ]
  },
  {
   "cell_type": "code",
   "execution_count": 76,
   "metadata": {},
   "outputs": [
    {
     "name": "stdout",
     "output_type": "stream",
     "text": [
      "Requirement already satisfied: folium in /Users/shikhar/openai_projects/github_repos/.venv/lib/python3.9/site-packages (0.18.0)\n",
      "Requirement already satisfied: geopy in /Users/shikhar/openai_projects/github_repos/.venv/lib/python3.9/site-packages (2.4.1)\n",
      "Requirement already satisfied: branca>=0.6.0 in /Users/shikhar/openai_projects/github_repos/.venv/lib/python3.9/site-packages (from folium) (0.8.0)\n",
      "Requirement already satisfied: jinja2>=2.9 in /Users/shikhar/openai_projects/github_repos/.venv/lib/python3.9/site-packages (from folium) (3.1.4)\n",
      "Requirement already satisfied: numpy in /Users/shikhar/openai_projects/github_repos/.venv/lib/python3.9/site-packages (from folium) (1.26.4)\n",
      "Requirement already satisfied: requests in /Users/shikhar/openai_projects/github_repos/.venv/lib/python3.9/site-packages (from folium) (2.32.3)\n",
      "Requirement already satisfied: xyzservices in /Users/shikhar/openai_projects/github_repos/.venv/lib/python3.9/site-packages (from folium) (2024.9.0)\n",
      "Requirement already satisfied: geographiclib<3,>=1.52 in /Users/shikhar/openai_projects/github_repos/.venv/lib/python3.9/site-packages (from geopy) (2.0)\n",
      "Requirement already satisfied: MarkupSafe>=2.0 in /Users/shikhar/openai_projects/github_repos/.venv/lib/python3.9/site-packages (from jinja2>=2.9->folium) (3.0.2)\n",
      "Requirement already satisfied: charset-normalizer<4,>=2 in /Users/shikhar/openai_projects/github_repos/.venv/lib/python3.9/site-packages (from requests->folium) (3.4.0)\n",
      "Requirement already satisfied: idna<4,>=2.5 in /Users/shikhar/openai_projects/github_repos/.venv/lib/python3.9/site-packages (from requests->folium) (3.10)\n",
      "Requirement already satisfied: urllib3<3,>=1.21.1 in /Users/shikhar/openai_projects/github_repos/.venv/lib/python3.9/site-packages (from requests->folium) (2.2.3)\n",
      "Requirement already satisfied: certifi>=2017.4.17 in /Users/shikhar/openai_projects/github_repos/.venv/lib/python3.9/site-packages (from requests->folium) (2024.8.30)\n",
      "Note: you may need to restart the kernel to use updated packages.\n"
     ]
    }
   ],
   "source": [
    "# Install visualization libraries\n",
    "%pip install folium geopy\n",
    "\n",
    "import folium\n",
    "from geopy.geocoders import Nominatim\n",
    "from geopy.extra.rate_limiter import RateLimiter"
   ]
  },
  {
   "cell_type": "markdown",
   "metadata": {},
   "source": [
    "\n",
    "### Initialize Geolocator\n",
    "\n",
    "We initialize the `geolocator` using `Nominatim`, which is an open-source geocoding service. The RateLimiter is used to ensure we don't exceed request limits when making multiple geocoding requests."
   ]
  },
  {
   "cell_type": "code",
   "execution_count": 77,
   "metadata": {},
   "outputs": [],
   "source": [
    "# Initialize geolocator with Nominatim\n",
    "geolocator = Nominatim(user_agent=\"route_optimizer\")\n",
    "geocode = RateLimiter(geolocator.geocode, min_delay_seconds=1)"
   ]
  },
  {
   "cell_type": "markdown",
   "metadata": {},
   "source": [
    "### Load User Routes Data\n",
    "\n",
    "We read the user routes data from the `user_routes.csv` file into a pandas DataFrame. This data contains all the necessary information for route optimization."
   ]
  },
  {
   "cell_type": "code",
   "execution_count": 86,
   "metadata": {},
   "outputs": [],
   "source": [
    "# Read the CSV file into a DataFrame\n",
    "df = pd.read_csv('user_routes.csv')\n",
    "\n",
    "# Initialize the OpenAI client\n",
    "client = openai.OpenAI(api_key=os.environ.get('OPENAI_API_KEY'))\n"
   ]
  },
  {
   "cell_type": "markdown",
   "metadata": {},
   "source": [
    "### Define Route Optimization Function\n",
    "We define the optimize_route function, which utilizes the OpenAI GPT-4 model to optimize the order in which the user should visit each waypoint to minimize travel time.\n",
    "\n",
    "Function Overview:\n",
    "\n",
    "Inputs:\n",
    "- `user_name`: The name of the user.\n",
    "- `start`: The starting location of the user.\n",
    "- `destination`: The end location of the user.\n",
    "- `waypoints`: A list of waypoints the user wants to visit.\n",
    "\n",
    "Process:\n",
    "- Constructs a conversation with the GPT model to request an optimized route.\n",
    "- Sends the request to the OpenAI API.\n",
    "- Receives and returns the optimized route as a response."
   ]
  },
  {
   "cell_type": "code",
   "execution_count": 87,
   "metadata": {},
   "outputs": [],
   "source": [
    "def optimize_route(user_name, start, destination, waypoints):\n",
    "    messages = [\n",
    "        {\n",
    "            \"role\": \"system\",\n",
    "            \"content\": \"You are an assistant helping to optimize travel routes.\"\n",
    "        },\n",
    "        {\n",
    "            \"role\": \"user\",\n",
    "            \"content\": f\"\"\"\n",
    "Optimize the visiting order for {user_name} to minimize travel time.\n",
    "\n",
    "Starting Location:\n",
    "{start}\n",
    "\n",
    "Destination:\n",
    "{destination}\n",
    "\n",
    "Waypoints:\n",
    "{', '.join(waypoints)}\n",
    "\n",
    "Provide the locations in the most efficient visiting order, starting from the starting location and ending at the destination, in the following JSON format:\n",
    "\n",
    "{{\"locations\": [\"Location1\", \"Location2\", \"Location3\", ...]}}\n",
    "\n",
    "**Important:** Only provide the JSON response without any additional text or explanations.\n",
    "\"\"\"\n",
    "        }\n",
    "    ]\n",
    "    response = client.chat.completions.create(\n",
    "        model='gpt-4o',\n",
    "        messages=messages,\n",
    "        max_tokens=2000,\n",
    "        temperature=0\n",
    "    )\n",
    "    optimized_route = response.choices[0].message.content.strip()\n",
    "    return optimized_route"
   ]
  },
  {
   "cell_type": "markdown",
   "metadata": {},
   "source": [
    "### Process Each User's Route\n",
    "\n",
    "We iterate over each user in the DataFrame and call the `optimize_route` function to get the optimized route for that user. The results are stored in a dictionary for later visualization."
   ]
  },
  {
   "cell_type": "code",
   "execution_count": 88,
   "metadata": {},
   "outputs": [],
   "source": [
    "#Process each user's route\n",
    "\n",
    "optimized_routes = {}\n",
    "for index, row in df.iterrows():\n",
    "    user = row['User']\n",
    "    start = row['Starting Location']\n",
    "    destination = row['Destination']\n",
    "    waypoints = [wp.strip() for wp in row['Waypoints'].split(';')]\n",
    "    optimized_route = optimize_route(user, start, destination, waypoints)\n",
    "    optimized_routes[user] = optimized_route\n"
   ]
  },
  {
   "cell_type": "markdown",
   "metadata": {},
   "source": [
    "### Display Optimized Routes\n",
    "\n",
    "We print out the optimized routes for each user to verify the responses from the GPT model."
   ]
  },
  {
   "cell_type": "code",
   "execution_count": 89,
   "metadata": {},
   "outputs": [
    {
     "name": "stdout",
     "output_type": "stream",
     "text": [
      "Alice's optimized route:\n",
      "```json\n",
      "{\"locations\": [\"1600 Amphitheatre Parkway\", \"Golden Gate Bridge, SF\", \"Coit Tower, SF\", \"Lombard Street, SF\", \"Pier 39, SF\", \"1 Infinite Loop\"]}\n",
      "```\n",
      "\n",
      "Bob's optimized route:\n",
      "{\"locations\": [\"Times Square\", \"Central Park, NY\", \"Empire State Building, NY\", \"One World Trade Center, NY\", \"Brooklyn Bridge, NY\", \"Statue of Liberty\"]}\n",
      "\n",
      "Charlie's optimized route:\n",
      "{\"locations\": [\"Eiffel Tower\", \"Arc de Triomphe, Paris\", \"Montmartre, Paris\", \"Notre-Dame Cathedral, Paris\", \"Musée d'Orsay, Paris\", \"Palace of Versailles, Paris\", \"Louvre Museum\"]}\n",
      "\n",
      "Dana's optimized route:\n",
      "{\"locations\": [\"Sydney Opera House\", \"The Rocks, Sydney\", \"Sydney Harbour Bridge, Sydney\", \"Darling Harbour, Sydney\", \"Taronga Zoo, Sydney\", \"Bondi Beach\"]}\n",
      "\n",
      "Ethan's optimized route:\n",
      "```json\n",
      "{\"locations\": [\"Taj Mahal\", \"Akshardham Temple, Delhi\", \"Red Fort, Delhi\", \"Humayun's Tomb, Delhi\", \"Lotus Temple, Delhi\", \"Qutub Minar, Delhi\", \"India Gate\"]}\n",
      "```\n",
      "\n"
     ]
    }
   ],
   "source": [
    "for user, route in optimized_routes.items():\n",
    "    print(f\"{user}'s optimized route:\\n{route}\\n\")"
   ]
  },
  {
   "cell_type": "code",
   "execution_count": 90,
   "metadata": {},
   "outputs": [
    {
     "data": {
      "text/plain": [
       "{'Alice': '```json\\n{\"locations\": [\"1600 Amphitheatre Parkway\", \"Golden Gate Bridge, SF\", \"Coit Tower, SF\", \"Lombard Street, SF\", \"Pier 39, SF\", \"1 Infinite Loop\"]}\\n```',\n",
       " 'Bob': '{\"locations\": [\"Times Square\", \"Central Park, NY\", \"Empire State Building, NY\", \"One World Trade Center, NY\", \"Brooklyn Bridge, NY\", \"Statue of Liberty\"]}',\n",
       " 'Charlie': '{\"locations\": [\"Eiffel Tower\", \"Arc de Triomphe, Paris\", \"Montmartre, Paris\", \"Notre-Dame Cathedral, Paris\", \"Musée d\\'Orsay, Paris\", \"Palace of Versailles, Paris\", \"Louvre Museum\"]}',\n",
       " 'Dana': '{\"locations\": [\"Sydney Opera House\", \"The Rocks, Sydney\", \"Sydney Harbour Bridge, Sydney\", \"Darling Harbour, Sydney\", \"Taronga Zoo, Sydney\", \"Bondi Beach\"]}',\n",
       " 'Ethan': '```json\\n{\"locations\": [\"Taj Mahal\", \"Akshardham Temple, Delhi\", \"Red Fort, Delhi\", \"Humayun\\'s Tomb, Delhi\", \"Lotus Temple, Delhi\", \"Qutub Minar, Delhi\", \"India Gate\"]}\\n```'}"
      ]
     },
     "execution_count": 90,
     "metadata": {},
     "output_type": "execute_result"
    }
   ],
   "source": [
    "optimized_routes"
   ]
  },
  {
   "cell_type": "markdown",
   "metadata": {},
   "source": [
    "### Extract Locations from Optimized Routes\n",
    "\n",
    "We define a helper function extract_locations that parses the optimized route text provided by the GPT model and extracts a list of locations in the order they should be visited."
   ]
  },
  {
   "cell_type": "code",
   "execution_count": 91,
   "metadata": {},
   "outputs": [],
   "source": [
    "import re\n",
    "import json\n",
    "\n",
    "def extract_locations(route_text):\n",
    "    try:\n",
    "        # Remove code fences if present\n",
    "        json_text = route_text.strip()\n",
    "        json_text = re.sub(r'^```json', '', json_text)\n",
    "        json_text = re.sub(r'```$', '', json_text)\n",
    "        # Parse the JSON string\n",
    "        data = json.loads(json_text)\n",
    "        locations = data.get('locations', [])\n",
    "        return locations\n",
    "    except json.JSONDecodeError as e:\n",
    "        print(f\"JSON decoding failed: {e}\")\n",
    "        return []"
   ]
  },
  {
   "cell_type": "markdown",
   "metadata": {},
   "source": [
    "### Geocode Locations and Visualize Routes\n",
    "\n",
    "For each user's optimized route:\n",
    "\n",
    "1. Geocode Locations:\n",
    "   - Convert the location names into geographical coordinates using the geocode function.\n",
    "   - Handle any locations that fail to geocode by logging and skipping them.\n",
    "\n",
    "2. Create Interactive Map:\n",
    "   - Initialize a Folium map centered on the first valid location.\n",
    "   - Plot the route using a polyline to connect the coordinates.\n",
    "   - Add markers for each location with color-coded icons:\n",
    "     - Green: Starting location.\n",
    "     - Blue: Waypoints.\n",
    "     - Red: Destination.\n",
    "\n",
    "3. Save Map to HTML File:\n",
    "   - Save the interactive map as an HTML file named after the user.\n",
    "\n",
    "`Note: If no valid coordinates are found for a user's route, a message is displayed, and the map creation is skipped for that user.`"
   ]
  },
  {
   "cell_type": "code",
   "execution_count": 92,
   "metadata": {},
   "outputs": [
    {
     "name": "stdout",
     "output_type": "stream",
     "text": [
      "Visualizing Alice's route...\n",
      "Map saved as Alice_route_map.html\n",
      "\n",
      "Visualizing Bob's route...\n",
      "Map saved as Bob_route_map.html\n",
      "\n",
      "Visualizing Charlie's route...\n",
      "Geocoding failed for Palace of Versailles, Paris\n",
      "Map saved as Charlie_route_map.html\n",
      "\n",
      "Visualizing Dana's route...\n",
      "Map saved as Dana_route_map.html\n",
      "\n",
      "Visualizing Ethan's route...\n",
      "Map saved as Ethan_route_map.html\n",
      "\n"
     ]
    }
   ],
   "source": [
    "# Geocode locations and visualize routes\n",
    "for user, route_text in optimized_routes.items():\n",
    "    print(f\"Visualizing {user}'s route...\")\n",
    "    locations = extract_locations(route_text)\n",
    "    if not locations:\n",
    "        print(f\"No locations found for {user}'s route.\")\n",
    "        continue\n",
    "\n",
    "    # Geocode locations\n",
    "    coords = []\n",
    "    valid_locations = []\n",
    "    for loc in locations:\n",
    "        location = geocode(loc)\n",
    "        if location:\n",
    "            coords.append((location.latitude, location.longitude))\n",
    "            valid_locations.append(loc)\n",
    "        else:\n",
    "            print(f\"Geocoding failed for {loc}\")\n",
    "            # Optionally skip this location or handle it as needed\n",
    "\n",
    "    if not coords:\n",
    "        print(f\"No valid coordinates for {user}'s route.\")\n",
    "        continue\n",
    "\n",
    "    # Create a map centered around the first location\n",
    "    map_center = coords[0]\n",
    "    m = folium.Map(location=map_center, zoom_start=13)\n",
    "\n",
    "    # Add markers and lines to the map\n",
    "    folium.PolyLine(coords, color=\"blue\", weight=2.5, opacity=1).add_to(m)\n",
    "\n",
    "    for i, (coord, loc) in enumerate(zip(coords, valid_locations)):\n",
    "        if i == 0:\n",
    "            color = 'green'  # Starting location\n",
    "        elif i == len(coords) - 1:\n",
    "            color = 'red'    # Destination\n",
    "        else:\n",
    "            color = 'blue'   # Waypoints\n",
    "        folium.Marker(\n",
    "            location=coord,\n",
    "            popup=f\"{i+1}. {loc}\",\n",
    "            icon=folium.Icon(color=color)\n",
    "        ).add_to(m)\n",
    "\n",
    "    # Save the map to an HTML file\n",
    "    map_filename = f\"{user}_route_map.html\"\n",
    "    m.save(map_filename)\n",
    "    print(f\"Map saved as {map_filename}\\n\")"
   ]
  },
  {
   "cell_type": "markdown",
   "metadata": {},
   "source": [
    "\n",
    "### Sample Output\n",
    "\n",
    "After running the code, you will have HTML files for each user:\n",
    "\n",
    "- `Alice_route_map.html`\n",
    "- `Bob_route_map.html`\n",
    "- `Charlie_route_map.html`\n",
    "- `Dana_route_map.html`\n",
    "- `Ethan_route_map.html`\n",
    "\n",
    "**Example of Viewing the Map:**\n",
    "\n",
    "1. **Open the HTML File:**\n",
    "\n",
    "   - Locate the file in your directory and open it in a web browser.\n",
    "\n",
    "2. **Interactive Features:**\n",
    "\n",
    "   - **Markers:** Click on markers to see the location details.\n",
    "   - **Zoom and Pan:** Navigate the map to explore the route.\n",
    "\n",
    "3. **Route Visualization:**\n",
    "\n",
    "   - **Line Path:** Shows the sequence in which locations should be visited.\n",
    "   - **Color-coded Markers:**\n",
    "     - **Green:** Starting location.\n",
    "     - **Blue:** Waypoints.\n",
    "     - **Red:** Destination.\n",
    "\n",
    "Shown below is sample output for Dana's route map:\n",
    "![Dana's Route Map](Dana_route_map.png)"
   ]
  },
  {
   "cell_type": "markdown",
   "metadata": {},
   "source": [
    "### Conclusion \n",
    "\n",
    "By following these steps and running the provided code, you should be able to generate interactive maps for all users based on the optimized routes. Each map will visually represent the most efficient visiting order of the locations, starting from the green marker and ending at the red marker, with waypoints in between.\n"
   ]
  },
  {
   "cell_type": "markdown",
   "metadata": {},
   "source": []
  }
 ],
 "metadata": {
  "kernelspec": {
   "display_name": ".venv",
   "language": "python",
   "name": "python3"
  },
  "language_info": {
   "codemirror_mode": {
    "name": "ipython",
    "version": 3
   },
   "file_extension": ".py",
   "mimetype": "text/x-python",
   "name": "python",
   "nbconvert_exporter": "python",
   "pygments_lexer": "ipython3",
   "version": "3.9.6"
  }
 },
 "nbformat": 4,
 "nbformat_minor": 2
}
